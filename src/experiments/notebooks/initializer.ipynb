{
 "cells": [
  {
   "cell_type": "code",
   "execution_count": 65,
   "metadata": {},
   "outputs": [],
   "source": [
    "import os\n",
    "import pickle as pkl\n",
    "import sys\n",
    "\n",
    "import matplotlib.pyplot as plt\n",
    "import pandas as pd\n",
    "import seaborn as sns\n",
    "\n",
    "sys.path.append(os.path.join(os.getcwd(), '..', '..', '..'))\n",
    "from settings import RESULTS_PATH"
   ]
  },
  {
   "cell_type": "code",
   "execution_count": 66,
   "metadata": {},
   "outputs": [
    {
     "data": {
      "text/plain": [
       "['sigmoid_relu_experiment.pkl',\n",
       " 'initialization_plain_xavier_experiment.pkl',\n",
       " 'batch_size_experiment.pkl',\n",
       " 'layer_size_experiment.pkl']"
      ]
     },
     "execution_count": 66,
     "metadata": {},
     "output_type": "execute_result"
    }
   ],
   "source": [
    "os.listdir(RESULTS_PATH)"
   ]
  },
  {
   "cell_type": "code",
   "execution_count": 67,
   "metadata": {},
   "outputs": [],
   "source": [
    "experiment_path = os.path.join(RESULTS_PATH, 'initialization_plain_xavier_experiment.pkl')"
   ]
  },
  {
   "cell_type": "code",
   "execution_count": 68,
   "metadata": {},
   "outputs": [],
   "source": [
    "with open(experiment_path, 'rb') as file:\n",
    "    results = pkl.load(file)"
   ]
  },
  {
   "cell_type": "code",
   "execution_count": 69,
   "metadata": {},
   "outputs": [],
   "source": [
    "results = [item for sublist in results for item in sublist]"
   ]
  },
  {
   "cell_type": "code",
   "execution_count": 70,
   "metadata": {},
   "outputs": [],
   "source": [
    "results = pd.DataFrame(results)"
   ]
  },
  {
   "cell_type": "code",
   "execution_count": 71,
   "metadata": {},
   "outputs": [
    {
     "data": {
      "text/html": [
       "<div>\n",
       "<style scoped>\n",
       "    .dataframe tbody tr th:only-of-type {\n",
       "        vertical-align: middle;\n",
       "    }\n",
       "\n",
       "    .dataframe tbody tr th {\n",
       "        vertical-align: top;\n",
       "    }\n",
       "\n",
       "    .dataframe thead th {\n",
       "        text-align: right;\n",
       "    }\n",
       "</style>\n",
       "<table border=\"1\" class=\"dataframe\">\n",
       "  <thead>\n",
       "    <tr style=\"text-align: right;\">\n",
       "      <th></th>\n",
       "      <th>train_loss</th>\n",
       "      <th>val_loss</th>\n",
       "      <th>test_loss</th>\n",
       "      <th>train_accuracy</th>\n",
       "      <th>val_accuracy</th>\n",
       "      <th>test_accuracy</th>\n",
       "      <th>repeat</th>\n",
       "      <th>initializer</th>\n",
       "      <th>epoch</th>\n",
       "    </tr>\n",
       "  </thead>\n",
       "  <tbody>\n",
       "    <tr>\n",
       "      <td>0</td>\n",
       "      <td>2.484565</td>\n",
       "      <td>2.484597</td>\n",
       "      <td>2.466821</td>\n",
       "      <td>0.06502</td>\n",
       "      <td>0.0678</td>\n",
       "      <td>0.0617</td>\n",
       "      <td>0</td>\n",
       "      <td>plain</td>\n",
       "      <td>0</td>\n",
       "    </tr>\n",
       "    <tr>\n",
       "      <td>1</td>\n",
       "      <td>2.415330</td>\n",
       "      <td>2.426838</td>\n",
       "      <td>2.406673</td>\n",
       "      <td>0.09060</td>\n",
       "      <td>0.0875</td>\n",
       "      <td>0.0884</td>\n",
       "      <td>0</td>\n",
       "      <td>xavier</td>\n",
       "      <td>0</td>\n",
       "    </tr>\n",
       "    <tr>\n",
       "      <td>2</td>\n",
       "      <td>2.319323</td>\n",
       "      <td>2.319084</td>\n",
       "      <td>2.331558</td>\n",
       "      <td>0.12288</td>\n",
       "      <td>0.1241</td>\n",
       "      <td>0.1228</td>\n",
       "      <td>0</td>\n",
       "      <td>he</td>\n",
       "      <td>0</td>\n",
       "    </tr>\n",
       "    <tr>\n",
       "      <td>3</td>\n",
       "      <td>0.666717</td>\n",
       "      <td>0.619545</td>\n",
       "      <td>4.246143</td>\n",
       "      <td>0.83000</td>\n",
       "      <td>0.8545</td>\n",
       "      <td>0.8425</td>\n",
       "      <td>0</td>\n",
       "      <td>plain</td>\n",
       "      <td>1</td>\n",
       "    </tr>\n",
       "    <tr>\n",
       "      <td>4</td>\n",
       "      <td>0.540730</td>\n",
       "      <td>0.498822</td>\n",
       "      <td>4.650727</td>\n",
       "      <td>0.86462</td>\n",
       "      <td>0.8790</td>\n",
       "      <td>0.8746</td>\n",
       "      <td>0</td>\n",
       "      <td>xavier</td>\n",
       "      <td>1</td>\n",
       "    </tr>\n",
       "  </tbody>\n",
       "</table>\n",
       "</div>"
      ],
      "text/plain": [
       "   train_loss  val_loss  test_loss  train_accuracy  val_accuracy  \\\n",
       "0    2.484565  2.484597   2.466821         0.06502        0.0678   \n",
       "1    2.415330  2.426838   2.406673         0.09060        0.0875   \n",
       "2    2.319323  2.319084   2.331558         0.12288        0.1241   \n",
       "3    0.666717  0.619545   4.246143         0.83000        0.8545   \n",
       "4    0.540730  0.498822   4.650727         0.86462        0.8790   \n",
       "\n",
       "   test_accuracy  repeat initializer  epoch  \n",
       "0         0.0617       0       plain      0  \n",
       "1         0.0884       0      xavier      0  \n",
       "2         0.1228       0          he      0  \n",
       "3         0.8425       0       plain      1  \n",
       "4         0.8746       0      xavier      1  "
      ]
     },
     "execution_count": 71,
     "metadata": {},
     "output_type": "execute_result"
    }
   ],
   "source": [
    "results.columns = ['train_loss', 'val_loss', 'test_loss', 'train_accuracy', 'val_accuracy',\n",
    "                   'test_accuracy', 'repeat', 'initializer', 'epoch']\n",
    "results.head()"
   ]
  },
  {
   "cell_type": "code",
   "execution_count": 72,
   "metadata": {},
   "outputs": [
    {
     "data": {
      "text/plain": [
       "array(['plain', 'xavier', 'he'], dtype=object)"
      ]
     },
     "execution_count": 72,
     "metadata": {},
     "output_type": "execute_result"
    }
   ],
   "source": [
    "results['initializer'].unique()"
   ]
  },
  {
   "cell_type": "code",
   "execution_count": 75,
   "metadata": {
    "scrolled": false
   },
   "outputs": [
    {
     "data": {
      "image/png": "[encoded data removed]",
      "text/plain": [
       "<Figure size 720x432 with 1 Axes>"
      ]
     },
     "metadata": {
      "needs_background": "light"
     },
     "output_type": "display_data"
    }
   ],
   "source": [
    "fig, ax = plt.subplots(1, 1, figsize=(10, 6))\n",
    "# palette = sns.color_palette(\"mako_r\", results['initializer'].nunique())\n",
    "sns.lineplot(x='epoch', \n",
    "             y='val_accuracy', \n",
    "             hue='initializer', \n",
    "             hue_order=sorted(results['initializer'].unique()),\n",
    "             data=results, \n",
    "             ax=ax,\n",
    "             legend=\"full\", ci='sd')\n",
    "ax.set_ylabel('Skuteczność')\n",
    "ax.set_xlabel('Epoka')\n",
    "ax.set_ylim(0.80, 1.0)\n",
    "plt.show()"
   ]
  },
  {
   "cell_type": "markdown",
   "metadata": {},
   "source": [
    "## Store results"
   ]
  },
  {
   "cell_type": "code",
   "execution_count": null,
   "metadata": {},
   "outputs": [],
   "source": []
  }
 ],
 "metadata": {
  "kernelspec": {
   "display_name": "Python 3",
   "language": "python",
   "name": "python3"
  },
  "language_info": {
   "codemirror_mode": {
    "name": "ipython",
    "version": 3
   },
   "file_extension": ".py",
   "mimetype": "text/x-python",
   "name": "python",
   "nbconvert_exporter": "python",
   "pygments_lexer": "ipython3",
   "version": "3.7.4"
  }
 },
 "nbformat": 4,
 "nbformat_minor": 2
}
