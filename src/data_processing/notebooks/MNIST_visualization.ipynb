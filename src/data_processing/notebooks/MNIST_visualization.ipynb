{
 "cells": [
  {
   "cell_type": "code",
   "execution_count": null,
   "metadata": {},
   "outputs": [],
   "source": [
    "import os\n",
    "import sys\n",
    "import random\n",
    "\n",
    "import numpy as np\n",
    "import matplotlib.pyplot as plt\n",
    "import pandas as pd\n",
    "import seaborn as sns\n",
    "\n",
    "sys.path.append(os.path.join(os.getcwd(),'..', '..', '..'))\n",
    "from settings import DATA_PATH\n",
    "from src.data_processing.io import load_mnist"
   ]
  },
  {
   "cell_type": "code",
   "execution_count": null,
   "metadata": {},
   "outputs": [],
   "source": [
    "train, val, test = load_mnist(DATA_PATH)\n",
    "x_train, y_train = train\n",
    "x_val, y_val = val\n",
    "x_test, y_test = test"
   ]
  },
  {
   "cell_type": "markdown",
   "metadata": {},
   "source": [
    "# MNIST example"
   ]
  },
  {
   "cell_type": "code",
   "execution_count": null,
   "metadata": {
    "scrolled": false
   },
   "outputs": [],
   "source": [
    "n_samples = 8\n",
    "indices = random.sample(list(range(len(x_train))), n_samples)\n",
    "fig, axes = plt.subplots(2, n_samples // 2, figsize=(16, 8))\n",
    "for ax, im_idx in zip(axes.flatten(), indices):\n",
    "    ax.imshow(x_train[im_idx].reshape([28, 28]), cmap='gray')\n",
    "    ax.tick_params(axis=u'both', which=u'both', bottom=False, left=False, top=False, labelbottom=False, labelleft=False)\n",
    "plt.plot()"
   ]
  },
  {
   "cell_type": "markdown",
   "metadata": {},
   "source": [
    "# Data distribution"
   ]
  },
  {
   "cell_type": "code",
   "execution_count": null,
   "metadata": {},
   "outputs": [],
   "source": [
    "data_sizes = {'Train set': len(x_train), 'Validation set': len(x_val), 'Test set': len(x_test)}\n",
    "data_sizes = pd.DataFrame(data_sizes, index=['Number of examples'])\n",
    "data_sizes.head()"
   ]
  },
  {
   "cell_type": "markdown",
   "metadata": {},
   "source": [
    "## Class distribution"
   ]
  },
  {
   "cell_type": "code",
   "execution_count": null,
   "metadata": {},
   "outputs": [],
   "source": [
    "train_labels, train_counts = np.unique(y_train, return_counts=True)\n",
    "val_labels, val_counts = np.unique(y_val, return_counts=True)\n",
    "test_labels, test_counts = np.unique(y_test, return_counts=True)\n",
    "\n",
    "class_distribution = {'Train':{label: num for label, num in zip(train_labels, train_counts)},\n",
    "                     'Validation':{label: num for label, num in zip(val_labels, val_counts)},\n",
    "                     'Test':{label: num for label, num in zip(test_labels, test_counts)}}\n",
    "class_distribution = pd.DataFrame(class_distribution, index=None).reset_index().melt('index', \n",
    "                                                                                     var_name='cols', value_name='vals')\n",
    "class_distribution.columns = ['Label', 'Set', 'Number of examples']"
   ]
  },
  {
   "cell_type": "code",
   "execution_count": null,
   "metadata": {},
   "outputs": [],
   "source": [
    "_, ax = plt.subplots(1, 1, figsize=(12, 6))\n",
    "sns.barplot(x='Label', y='Number of examples', hue='Set', data=class_distribution, ax=ax)\n",
    "plt.show()"
   ]
  }
 ],
 "metadata": {
  "kernelspec": {
   "display_name": "Python 3",
   "language": "python",
   "name": "python3"
  },
  "language_info": {
   "codemirror_mode": {
    "name": "ipython",
    "version": 3
   },
   "file_extension": ".py",
   "mimetype": "text/x-python",
   "name": "python",
   "nbconvert_exporter": "python",
   "pygments_lexer": "ipython3",
   "version": "3.7.4"
  }
 },
 "nbformat": 4,
 "nbformat_minor": 2
}
